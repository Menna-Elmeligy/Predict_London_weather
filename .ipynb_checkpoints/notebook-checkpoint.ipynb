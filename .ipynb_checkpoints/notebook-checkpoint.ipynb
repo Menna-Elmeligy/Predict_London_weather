{
 "cells": [
  {
   "cell_type": "markdown",
   "id": "42a0676a-ba47-4e32-93f9-913bb233ed9c",
   "metadata": {},
   "source": [
    "![tower_bridge](tower_bridge.jpeg)\n",
    "\n",
    "As the climate changes, predicting the weather becomes ever more important for businesses. Since the weather depends on a lot of different factors, you will want to run a lot of experiments to determine what the best approach is to predict the weather. In this project, you will run experiments for different regression models predicting the mean temperature, using a combination of `sklearn` and `MLflow`.\n",
    "\n",
    "You will be working with data stored in `london_weather.csv`, which contains the following columns:\n",
    "- **date** - recorded date of measurement - (**int**)\n",
    "- **cloud_cover** - cloud cover measurement in oktas - (**float**)\n",
    "- **sunshine** - sunshine measurement in hours (hrs) - (**float**)\n",
    "- **global_radiation** - irradiance measurement in Watt per square meter (W/m2) - (**float**)\n",
    "- **max_temp** - maximum temperature recorded in degrees Celsius (°C) - (**float**)\n",
    "- **mean_temp** - mean temperature in degrees Celsius (°C) - (**float**)\n",
    "- **min_temp** - minimum temperature recorded in degrees Celsius (°C) - (**float**)\n",
    "- **precipitation** - precipitation measurement in millimeters (mm) - (**float**)\n",
    "- **pressure** - pressure measurement in Pascals (Pa) - (**float**)\n",
    "- **snow_depth** - snow depth measurement in centimeters (cm) - (**float**)"
   ]
  },
  {
   "cell_type": "code",
   "execution_count": 2,
   "id": "4ac85ad4-a7e9-43d0-9dae-b21026e32dfe",
   "metadata": {
    "executionCancelledAt": null,
    "executionTime": 4825,
    "lastExecutedAt": 1738061807936,
    "lastExecutedByKernel": "d7cc9245-27a6-4912-b3ee-2b54b32adde2",
    "lastScheduledRunId": null,
    "lastSuccessfullyExecutedCode": "# Run this cell to import the modules you require\nimport pandas as pd\nimport numpy as np\nimport mlflow\nimport mlflow.sklearn\nimport matplotlib.pyplot as plt\nimport seaborn as sns\nfrom sklearn.model_selection import train_test_split\nfrom sklearn.metrics import mean_squared_error\nfrom sklearn.impute import SimpleImputer\nfrom sklearn.preprocessing import StandardScaler\nfrom sklearn.linear_model import LinearRegression\nfrom sklearn.tree import DecisionTreeRegressor\nfrom sklearn.ensemble import RandomForestRegressor\n\n# Read in the data\nweather = pd.read_csv(\"london_weather.csv\")\n\n# Start coding here\n# Use as many cells as you like"
   },
   "outputs": [
    {
     "data": {
      "text/html": [
       "<div>\n",
       "<style scoped>\n",
       "    .dataframe tbody tr th:only-of-type {\n",
       "        vertical-align: middle;\n",
       "    }\n",
       "\n",
       "    .dataframe tbody tr th {\n",
       "        vertical-align: top;\n",
       "    }\n",
       "\n",
       "    .dataframe thead th {\n",
       "        text-align: right;\n",
       "    }\n",
       "</style>\n",
       "<table border=\"1\" class=\"dataframe\">\n",
       "  <thead>\n",
       "    <tr style=\"text-align: right;\">\n",
       "      <th></th>\n",
       "      <th>date</th>\n",
       "      <th>cloud_cover</th>\n",
       "      <th>sunshine</th>\n",
       "      <th>global_radiation</th>\n",
       "      <th>max_temp</th>\n",
       "      <th>mean_temp</th>\n",
       "      <th>min_temp</th>\n",
       "      <th>precipitation</th>\n",
       "      <th>pressure</th>\n",
       "      <th>snow_depth</th>\n",
       "    </tr>\n",
       "  </thead>\n",
       "  <tbody>\n",
       "    <tr>\n",
       "      <th>0</th>\n",
       "      <td>19790101</td>\n",
       "      <td>2.0</td>\n",
       "      <td>7.0</td>\n",
       "      <td>52.0</td>\n",
       "      <td>2.3</td>\n",
       "      <td>-4.1</td>\n",
       "      <td>-7.5</td>\n",
       "      <td>0.4</td>\n",
       "      <td>101900.0</td>\n",
       "      <td>9.0</td>\n",
       "    </tr>\n",
       "    <tr>\n",
       "      <th>1</th>\n",
       "      <td>19790102</td>\n",
       "      <td>6.0</td>\n",
       "      <td>1.7</td>\n",
       "      <td>27.0</td>\n",
       "      <td>1.6</td>\n",
       "      <td>-2.6</td>\n",
       "      <td>-7.5</td>\n",
       "      <td>0.0</td>\n",
       "      <td>102530.0</td>\n",
       "      <td>8.0</td>\n",
       "    </tr>\n",
       "    <tr>\n",
       "      <th>2</th>\n",
       "      <td>19790103</td>\n",
       "      <td>5.0</td>\n",
       "      <td>0.0</td>\n",
       "      <td>13.0</td>\n",
       "      <td>1.3</td>\n",
       "      <td>-2.8</td>\n",
       "      <td>-7.2</td>\n",
       "      <td>0.0</td>\n",
       "      <td>102050.0</td>\n",
       "      <td>4.0</td>\n",
       "    </tr>\n",
       "    <tr>\n",
       "      <th>3</th>\n",
       "      <td>19790104</td>\n",
       "      <td>8.0</td>\n",
       "      <td>0.0</td>\n",
       "      <td>13.0</td>\n",
       "      <td>-0.3</td>\n",
       "      <td>-2.6</td>\n",
       "      <td>-6.5</td>\n",
       "      <td>0.0</td>\n",
       "      <td>100840.0</td>\n",
       "      <td>2.0</td>\n",
       "    </tr>\n",
       "    <tr>\n",
       "      <th>4</th>\n",
       "      <td>19790105</td>\n",
       "      <td>6.0</td>\n",
       "      <td>2.0</td>\n",
       "      <td>29.0</td>\n",
       "      <td>5.6</td>\n",
       "      <td>-0.8</td>\n",
       "      <td>-1.4</td>\n",
       "      <td>0.0</td>\n",
       "      <td>102250.0</td>\n",
       "      <td>1.0</td>\n",
       "    </tr>\n",
       "  </tbody>\n",
       "</table>\n",
       "</div>"
      ],
      "text/plain": [
       "       date  cloud_cover  sunshine  global_radiation  max_temp  mean_temp  \\\n",
       "0  19790101          2.0       7.0              52.0       2.3       -4.1   \n",
       "1  19790102          6.0       1.7              27.0       1.6       -2.6   \n",
       "2  19790103          5.0       0.0              13.0       1.3       -2.8   \n",
       "3  19790104          8.0       0.0              13.0      -0.3       -2.6   \n",
       "4  19790105          6.0       2.0              29.0       5.6       -0.8   \n",
       "\n",
       "   min_temp  precipitation  pressure  snow_depth  \n",
       "0      -7.5            0.4  101900.0         9.0  \n",
       "1      -7.5            0.0  102530.0         8.0  \n",
       "2      -7.2            0.0  102050.0         4.0  \n",
       "3      -6.5            0.0  100840.0         2.0  \n",
       "4      -1.4            0.0  102250.0         1.0  "
      ]
     },
     "execution_count": 2,
     "metadata": {},
     "output_type": "execute_result"
    }
   ],
   "source": [
    "# Run this cell to import the modules you require\n",
    "import pandas as pd\n",
    "import numpy as np\n",
    "import mlflow\n",
    "import mlflow.sklearn\n",
    "import matplotlib.pyplot as plt\n",
    "import seaborn as sns\n",
    "from sklearn.model_selection import train_test_split\n",
    "from sklearn.metrics import mean_squared_error\n",
    "from sklearn.impute import SimpleImputer\n",
    "from sklearn.preprocessing import StandardScaler\n",
    "from sklearn.linear_model import LinearRegression\n",
    "from sklearn.tree import DecisionTreeRegressor\n",
    "from sklearn.ensemble import RandomForestRegressor\n",
    "\n",
    "# Read in the data\n",
    "weather_df = pd.read_csv(\"london_weather.csv\")\n",
    "\n",
    "# Exploratory Data Analysis\n",
    "weather_df.head()"
   ]
  },
  {
   "cell_type": "code",
   "execution_count": 3,
   "id": "d159a62b-3c74-4a51-a8db-c4d98549b9fb",
   "metadata": {},
   "outputs": [
    {
     "name": "stdout",
     "output_type": "stream",
     "text": [
      "<class 'pandas.core.frame.DataFrame'>\n",
      "RangeIndex: 15341 entries, 0 to 15340\n",
      "Data columns (total 10 columns):\n",
      " #   Column            Non-Null Count  Dtype  \n",
      "---  ------            --------------  -----  \n",
      " 0   date              15341 non-null  int64  \n",
      " 1   cloud_cover       15322 non-null  float64\n",
      " 2   sunshine          15341 non-null  float64\n",
      " 3   global_radiation  15322 non-null  float64\n",
      " 4   max_temp          15335 non-null  float64\n",
      " 5   mean_temp         15305 non-null  float64\n",
      " 6   min_temp          15339 non-null  float64\n",
      " 7   precipitation     15335 non-null  float64\n",
      " 8   pressure          15337 non-null  float64\n",
      " 9   snow_depth        13900 non-null  float64\n",
      "dtypes: float64(9), int64(1)\n",
      "memory usage: 1.2 MB\n"
     ]
    }
   ],
   "source": [
    "weather_df.info()"
   ]
  },
  {
   "cell_type": "code",
   "execution_count": 4,
   "id": "e173ce08-1de1-44e0-9a79-93a8a2a87452",
   "metadata": {},
   "outputs": [
    {
     "data": {
      "text/html": [
       "<div>\n",
       "<style scoped>\n",
       "    .dataframe tbody tr th:only-of-type {\n",
       "        vertical-align: middle;\n",
       "    }\n",
       "\n",
       "    .dataframe tbody tr th {\n",
       "        vertical-align: top;\n",
       "    }\n",
       "\n",
       "    .dataframe thead th {\n",
       "        text-align: right;\n",
       "    }\n",
       "</style>\n",
       "<table border=\"1\" class=\"dataframe\">\n",
       "  <thead>\n",
       "    <tr style=\"text-align: right;\">\n",
       "      <th></th>\n",
       "      <th>date</th>\n",
       "      <th>cloud_cover</th>\n",
       "      <th>sunshine</th>\n",
       "      <th>global_radiation</th>\n",
       "      <th>max_temp</th>\n",
       "      <th>mean_temp</th>\n",
       "      <th>min_temp</th>\n",
       "      <th>precipitation</th>\n",
       "      <th>pressure</th>\n",
       "      <th>snow_depth</th>\n",
       "    </tr>\n",
       "  </thead>\n",
       "  <tbody>\n",
       "    <tr>\n",
       "      <th>count</th>\n",
       "      <td>1.534100e+04</td>\n",
       "      <td>15322.000000</td>\n",
       "      <td>15341.000000</td>\n",
       "      <td>15322.000000</td>\n",
       "      <td>15335.000000</td>\n",
       "      <td>15305.000000</td>\n",
       "      <td>15339.000000</td>\n",
       "      <td>15335.000000</td>\n",
       "      <td>15337.000000</td>\n",
       "      <td>13900.000000</td>\n",
       "    </tr>\n",
       "    <tr>\n",
       "      <th>mean</th>\n",
       "      <td>1.999567e+07</td>\n",
       "      <td>5.268242</td>\n",
       "      <td>4.350238</td>\n",
       "      <td>118.756951</td>\n",
       "      <td>15.388777</td>\n",
       "      <td>11.475511</td>\n",
       "      <td>7.559867</td>\n",
       "      <td>1.668634</td>\n",
       "      <td>101536.605594</td>\n",
       "      <td>0.037986</td>\n",
       "    </tr>\n",
       "    <tr>\n",
       "      <th>std</th>\n",
       "      <td>1.212176e+05</td>\n",
       "      <td>2.070072</td>\n",
       "      <td>4.028339</td>\n",
       "      <td>88.898272</td>\n",
       "      <td>6.554754</td>\n",
       "      <td>5.729709</td>\n",
       "      <td>5.326756</td>\n",
       "      <td>3.738540</td>\n",
       "      <td>1049.722604</td>\n",
       "      <td>0.545633</td>\n",
       "    </tr>\n",
       "    <tr>\n",
       "      <th>min</th>\n",
       "      <td>1.979010e+07</td>\n",
       "      <td>0.000000</td>\n",
       "      <td>0.000000</td>\n",
       "      <td>8.000000</td>\n",
       "      <td>-6.200000</td>\n",
       "      <td>-7.600000</td>\n",
       "      <td>-11.800000</td>\n",
       "      <td>0.000000</td>\n",
       "      <td>95960.000000</td>\n",
       "      <td>0.000000</td>\n",
       "    </tr>\n",
       "    <tr>\n",
       "      <th>25%</th>\n",
       "      <td>1.989070e+07</td>\n",
       "      <td>4.000000</td>\n",
       "      <td>0.500000</td>\n",
       "      <td>41.000000</td>\n",
       "      <td>10.500000</td>\n",
       "      <td>7.000000</td>\n",
       "      <td>3.500000</td>\n",
       "      <td>0.000000</td>\n",
       "      <td>100920.000000</td>\n",
       "      <td>0.000000</td>\n",
       "    </tr>\n",
       "    <tr>\n",
       "      <th>50%</th>\n",
       "      <td>2.000010e+07</td>\n",
       "      <td>6.000000</td>\n",
       "      <td>3.500000</td>\n",
       "      <td>95.000000</td>\n",
       "      <td>15.000000</td>\n",
       "      <td>11.400000</td>\n",
       "      <td>7.800000</td>\n",
       "      <td>0.000000</td>\n",
       "      <td>101620.000000</td>\n",
       "      <td>0.000000</td>\n",
       "    </tr>\n",
       "    <tr>\n",
       "      <th>75%</th>\n",
       "      <td>2.010070e+07</td>\n",
       "      <td>7.000000</td>\n",
       "      <td>7.200000</td>\n",
       "      <td>186.000000</td>\n",
       "      <td>20.300000</td>\n",
       "      <td>16.000000</td>\n",
       "      <td>11.800000</td>\n",
       "      <td>1.600000</td>\n",
       "      <td>102240.000000</td>\n",
       "      <td>0.000000</td>\n",
       "    </tr>\n",
       "    <tr>\n",
       "      <th>max</th>\n",
       "      <td>2.020123e+07</td>\n",
       "      <td>9.000000</td>\n",
       "      <td>16.000000</td>\n",
       "      <td>402.000000</td>\n",
       "      <td>37.900000</td>\n",
       "      <td>29.000000</td>\n",
       "      <td>22.300000</td>\n",
       "      <td>61.800000</td>\n",
       "      <td>104820.000000</td>\n",
       "      <td>22.000000</td>\n",
       "    </tr>\n",
       "  </tbody>\n",
       "</table>\n",
       "</div>"
      ],
      "text/plain": [
       "               date   cloud_cover      sunshine  global_radiation  \\\n",
       "count  1.534100e+04  15322.000000  15341.000000      15322.000000   \n",
       "mean   1.999567e+07      5.268242      4.350238        118.756951   \n",
       "std    1.212176e+05      2.070072      4.028339         88.898272   \n",
       "min    1.979010e+07      0.000000      0.000000          8.000000   \n",
       "25%    1.989070e+07      4.000000      0.500000         41.000000   \n",
       "50%    2.000010e+07      6.000000      3.500000         95.000000   \n",
       "75%    2.010070e+07      7.000000      7.200000        186.000000   \n",
       "max    2.020123e+07      9.000000     16.000000        402.000000   \n",
       "\n",
       "           max_temp     mean_temp      min_temp  precipitation       pressure  \\\n",
       "count  15335.000000  15305.000000  15339.000000   15335.000000   15337.000000   \n",
       "mean      15.388777     11.475511      7.559867       1.668634  101536.605594   \n",
       "std        6.554754      5.729709      5.326756       3.738540    1049.722604   \n",
       "min       -6.200000     -7.600000    -11.800000       0.000000   95960.000000   \n",
       "25%       10.500000      7.000000      3.500000       0.000000  100920.000000   \n",
       "50%       15.000000     11.400000      7.800000       0.000000  101620.000000   \n",
       "75%       20.300000     16.000000     11.800000       1.600000  102240.000000   \n",
       "max       37.900000     29.000000     22.300000      61.800000  104820.000000   \n",
       "\n",
       "         snow_depth  \n",
       "count  13900.000000  \n",
       "mean       0.037986  \n",
       "std        0.545633  \n",
       "min        0.000000  \n",
       "25%        0.000000  \n",
       "50%        0.000000  \n",
       "75%        0.000000  \n",
       "max       22.000000  "
      ]
     },
     "execution_count": 4,
     "metadata": {},
     "output_type": "execute_result"
    }
   ],
   "source": [
    "weather_df.describe()"
   ]
  },
  {
   "cell_type": "code",
   "execution_count": 5,
   "id": "8c41cdba-e03e-41f3-80ae-64c527fe54ce",
   "metadata": {},
   "outputs": [
    {
     "name": "stdout",
     "output_type": "stream",
     "text": [
      "The dataframe columns are Index(['date', 'cloud_cover', 'sunshine', 'global_radiation', 'max_temp',\n",
      "       'mean_temp', 'min_temp', 'precipitation', 'pressure', 'snow_depth'],\n",
      "      dtype='object')\n"
     ]
    }
   ],
   "source": [
    "print(f\"The dataframe columns are {weather_df.columns}\")"
   ]
  },
  {
   "cell_type": "code",
   "execution_count": 6,
   "id": "faf1c240-0cc8-4920-9bec-b24a78d6fd80",
   "metadata": {},
   "outputs": [
    {
     "name": "stdout",
     "output_type": "stream",
     "text": [
      "The dataframe shape is (15341, 10)\n"
     ]
    }
   ],
   "source": [
    "print(f\"The dataframe shape is {weather_df.shape}\")"
   ]
  },
  {
   "cell_type": "code",
   "execution_count": 7,
   "id": "a258adf1-17a8-4c76-ad90-26bb7110c5cb",
   "metadata": {},
   "outputs": [
    {
     "name": "stdout",
     "output_type": "stream",
     "text": [
      "The time period is from 19790101 to 20201231\n"
     ]
    }
   ],
   "source": [
    "print(f\"The time period is from {weather_df[\"date\"].min()} to {weather_df[\"date\"].max()}\")"
   ]
  },
  {
   "cell_type": "code",
   "execution_count": 8,
   "id": "61f0fb65-9709-4ed6-bbf2-83b956e3f9ef",
   "metadata": {},
   "outputs": [
    {
     "data": {
      "text/plain": [
       "date                   0\n",
       "cloud_cover           19\n",
       "sunshine               0\n",
       "global_radiation      19\n",
       "max_temp               6\n",
       "mean_temp             36\n",
       "min_temp               2\n",
       "precipitation          6\n",
       "pressure               4\n",
       "snow_depth          1441\n",
       "dtype: int64"
      ]
     },
     "execution_count": 8,
     "metadata": {},
     "output_type": "execute_result"
    }
   ],
   "source": [
    "#Missing values analysis\n",
    "weather_df.isnull().sum()"
   ]
  },
  {
   "cell_type": "code",
   "execution_count": 9,
   "id": "a50ac233-145e-464e-a7ff-3db66a48a164",
   "metadata": {},
   "outputs": [
    {
     "data": {
      "text/plain": [
       "15341"
      ]
     },
     "execution_count": 9,
     "metadata": {},
     "output_type": "execute_result"
    }
   ],
   "source": [
    "len(weather_df)"
   ]
  },
  {
   "cell_type": "code",
   "execution_count": 10,
   "id": "9b80d066-64b4-4f3a-8335-7cccd400151c",
   "metadata": {},
   "outputs": [
    {
     "name": "stdout",
     "output_type": "stream",
     "text": [
      "                  Missing_Count  Missing_Percentage\n",
      "snow_depth                 1441            9.393130\n",
      "mean_temp                    36            0.234665\n",
      "global_radiation             19            0.123851\n",
      "cloud_cover                  19            0.123851\n",
      "precipitation                 6            0.039111\n",
      "max_temp                      6            0.039111\n",
      "pressure                      4            0.026074\n",
      "min_temp                      2            0.013037\n",
      "date                          0            0.000000\n",
      "sunshine                      0            0.000000\n"
     ]
    }
   ],
   "source": [
    "missing_stats = pd.DataFrame({\n",
    "            'Missing_Count': weather_df.isnull().sum(),\n",
    "            'Missing_Percentage': (weather_df.isnull().sum() / len(weather_df)) * 100\n",
    "        }).sort_values('Missing_Percentage', ascending=False)\n",
    "print(missing_stats)"
   ]
  },
  {
   "cell_type": "code",
   "execution_count": null,
   "id": "b3b47ed6-291a-42fc-9ef1-6b60a6841498",
   "metadata": {},
   "outputs": [],
   "source": [
    "#Processing Date Feature:\n"
   ]
  }
 ],
 "metadata": {
  "colab": {
   "name": "Welcome to DataCamp Workspaces.ipynb",
   "provenance": []
  },
  "kernelspec": {
   "display_name": "Python 3 (ipykernel)",
   "language": "python",
   "name": "python3"
  },
  "language_info": {
   "codemirror_mode": {
    "name": "ipython",
    "version": 3
   },
   "file_extension": ".py",
   "mimetype": "text/x-python",
   "name": "python",
   "nbconvert_exporter": "python",
   "pygments_lexer": "ipython3",
   "version": "3.13.2"
  }
 },
 "nbformat": 4,
 "nbformat_minor": 5
}
