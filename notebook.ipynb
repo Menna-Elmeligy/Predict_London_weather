{
 "cells": [
  {
   "cell_type": "markdown",
   "id": "42a0676a-ba47-4e32-93f9-913bb233ed9c",
   "metadata": {},
   "source": [
    "![tower_bridge](tower_bridge.jpeg)\n",
    "\n",
    "As the climate changes, predicting the weather becomes ever more important for businesses. Since the weather depends on a lot of different factors, you will want to run a lot of experiments to determine what the best approach is to predict the weather. In this project, you will run experiments for different regression models predicting the mean temperature, using a combination of `sklearn` and `MLflow`.\n",
    "\n",
    "You will be working with data stored in `london_weather.csv`, which contains the following columns:\n",
    "- **date** - recorded date of measurement - (**int**)\n",
    "- **cloud_cover** - cloud cover measurement in oktas - (**float**)\n",
    "- **sunshine** - sunshine measurement in hours (hrs) - (**float**)\n",
    "- **global_radiation** - irradiance measurement in Watt per square meter (W/m2) - (**float**)\n",
    "- **max_temp** - maximum temperature recorded in degrees Celsius (°C) - (**float**)\n",
    "- **mean_temp** - mean temperature in degrees Celsius (°C) - (**float**)\n",
    "- **min_temp** - minimum temperature recorded in degrees Celsius (°C) - (**float**)\n",
    "- **precipitation** - precipitation measurement in millimeters (mm) - (**float**)\n",
    "- **pressure** - pressure measurement in Pascals (Pa) - (**float**)\n",
    "- **snow_depth** - snow depth measurement in centimeters (cm) - (**float**)"
   ]
  },
  {
   "cell_type": "code",
   "execution_count": 81,
   "id": "4ac85ad4-a7e9-43d0-9dae-b21026e32dfe",
   "metadata": {
    "executionCancelledAt": null,
    "executionTime": 4825,
    "lastExecutedAt": 1738061807936,
    "lastExecutedByKernel": "d7cc9245-27a6-4912-b3ee-2b54b32adde2",
    "lastScheduledRunId": null,
    "lastSuccessfullyExecutedCode": "# Run this cell to import the modules you require\nimport pandas as pd\nimport numpy as np\nimport mlflow\nimport mlflow.sklearn\nimport matplotlib.pyplot as plt\nimport seaborn as sns\nfrom sklearn.model_selection import train_test_split\nfrom sklearn.metrics import mean_squared_error\nfrom sklearn.impute import SimpleImputer\nfrom sklearn.preprocessing import StandardScaler\nfrom sklearn.linear_model import LinearRegression\nfrom sklearn.tree import DecisionTreeRegressor\nfrom sklearn.ensemble import RandomForestRegressor\n\n# Read in the data\nweather = pd.read_csv(\"london_weather.csv\")\n\n# Start coding here\n# Use as many cells as you like"
   },
   "outputs": [
    {
     "data": {
      "text/html": [
       "<div>\n",
       "<style scoped>\n",
       "    .dataframe tbody tr th:only-of-type {\n",
       "        vertical-align: middle;\n",
       "    }\n",
       "\n",
       "    .dataframe tbody tr th {\n",
       "        vertical-align: top;\n",
       "    }\n",
       "\n",
       "    .dataframe thead th {\n",
       "        text-align: right;\n",
       "    }\n",
       "</style>\n",
       "<table border=\"1\" class=\"dataframe\">\n",
       "  <thead>\n",
       "    <tr style=\"text-align: right;\">\n",
       "      <th></th>\n",
       "      <th>date</th>\n",
       "      <th>cloud_cover</th>\n",
       "      <th>sunshine</th>\n",
       "      <th>global_radiation</th>\n",
       "      <th>max_temp</th>\n",
       "      <th>mean_temp</th>\n",
       "      <th>min_temp</th>\n",
       "      <th>precipitation</th>\n",
       "      <th>pressure</th>\n",
       "      <th>snow_depth</th>\n",
       "    </tr>\n",
       "  </thead>\n",
       "  <tbody>\n",
       "    <tr>\n",
       "      <th>0</th>\n",
       "      <td>19790101</td>\n",
       "      <td>2.0</td>\n",
       "      <td>7.0</td>\n",
       "      <td>52.0</td>\n",
       "      <td>2.3</td>\n",
       "      <td>-4.1</td>\n",
       "      <td>-7.5</td>\n",
       "      <td>0.4</td>\n",
       "      <td>101900.0</td>\n",
       "      <td>9.0</td>\n",
       "    </tr>\n",
       "    <tr>\n",
       "      <th>1</th>\n",
       "      <td>19790102</td>\n",
       "      <td>6.0</td>\n",
       "      <td>1.7</td>\n",
       "      <td>27.0</td>\n",
       "      <td>1.6</td>\n",
       "      <td>-2.6</td>\n",
       "      <td>-7.5</td>\n",
       "      <td>0.0</td>\n",
       "      <td>102530.0</td>\n",
       "      <td>8.0</td>\n",
       "    </tr>\n",
       "    <tr>\n",
       "      <th>2</th>\n",
       "      <td>19790103</td>\n",
       "      <td>5.0</td>\n",
       "      <td>0.0</td>\n",
       "      <td>13.0</td>\n",
       "      <td>1.3</td>\n",
       "      <td>-2.8</td>\n",
       "      <td>-7.2</td>\n",
       "      <td>0.0</td>\n",
       "      <td>102050.0</td>\n",
       "      <td>4.0</td>\n",
       "    </tr>\n",
       "    <tr>\n",
       "      <th>3</th>\n",
       "      <td>19790104</td>\n",
       "      <td>8.0</td>\n",
       "      <td>0.0</td>\n",
       "      <td>13.0</td>\n",
       "      <td>-0.3</td>\n",
       "      <td>-2.6</td>\n",
       "      <td>-6.5</td>\n",
       "      <td>0.0</td>\n",
       "      <td>100840.0</td>\n",
       "      <td>2.0</td>\n",
       "    </tr>\n",
       "    <tr>\n",
       "      <th>4</th>\n",
       "      <td>19790105</td>\n",
       "      <td>6.0</td>\n",
       "      <td>2.0</td>\n",
       "      <td>29.0</td>\n",
       "      <td>5.6</td>\n",
       "      <td>-0.8</td>\n",
       "      <td>-1.4</td>\n",
       "      <td>0.0</td>\n",
       "      <td>102250.0</td>\n",
       "      <td>1.0</td>\n",
       "    </tr>\n",
       "  </tbody>\n",
       "</table>\n",
       "</div>"
      ],
      "text/plain": [
       "       date  cloud_cover  sunshine  global_radiation  max_temp  mean_temp  \\\n",
       "0  19790101          2.0       7.0              52.0       2.3       -4.1   \n",
       "1  19790102          6.0       1.7              27.0       1.6       -2.6   \n",
       "2  19790103          5.0       0.0              13.0       1.3       -2.8   \n",
       "3  19790104          8.0       0.0              13.0      -0.3       -2.6   \n",
       "4  19790105          6.0       2.0              29.0       5.6       -0.8   \n",
       "\n",
       "   min_temp  precipitation  pressure  snow_depth  \n",
       "0      -7.5            0.4  101900.0         9.0  \n",
       "1      -7.5            0.0  102530.0         8.0  \n",
       "2      -7.2            0.0  102050.0         4.0  \n",
       "3      -6.5            0.0  100840.0         2.0  \n",
       "4      -1.4            0.0  102250.0         1.0  "
      ]
     },
     "execution_count": 81,
     "metadata": {},
     "output_type": "execute_result"
    }
   ],
   "source": [
    "# Run this cell to import the modules you require\n",
    "import pandas as pd\n",
    "import numpy as np\n",
    "import mlflow\n",
    "import mlflow.sklearn\n",
    "import matplotlib.pyplot as plt\n",
    "import seaborn as sns\n",
    "from sklearn.model_selection import train_test_split\n",
    "from sklearn.metrics import mean_squared_error\n",
    "from sklearn.impute import SimpleImputer\n",
    "from sklearn.preprocessing import StandardScaler\n",
    "from sklearn.linear_model import LinearRegression\n",
    "from sklearn.tree import DecisionTreeRegressor\n",
    "from sklearn.ensemble import RandomForestRegressor\n",
    "\n",
    "# Read in the data\n",
    "weather_df = pd.read_csv(\"london_weather.csv\")\n",
    "\n",
    "# Exploratory Data Analysis\n",
    "weather_df.head()"
   ]
  },
  {
   "cell_type": "code",
   "execution_count": 82,
   "id": "d159a62b-3c74-4a51-a8db-c4d98549b9fb",
   "metadata": {},
   "outputs": [
    {
     "name": "stdout",
     "output_type": "stream",
     "text": [
      "<class 'pandas.core.frame.DataFrame'>\n",
      "RangeIndex: 15341 entries, 0 to 15340\n",
      "Data columns (total 10 columns):\n",
      " #   Column            Non-Null Count  Dtype  \n",
      "---  ------            --------------  -----  \n",
      " 0   date              15341 non-null  int64  \n",
      " 1   cloud_cover       15322 non-null  float64\n",
      " 2   sunshine          15341 non-null  float64\n",
      " 3   global_radiation  15322 non-null  float64\n",
      " 4   max_temp          15335 non-null  float64\n",
      " 5   mean_temp         15305 non-null  float64\n",
      " 6   min_temp          15339 non-null  float64\n",
      " 7   precipitation     15335 non-null  float64\n",
      " 8   pressure          15337 non-null  float64\n",
      " 9   snow_depth        13900 non-null  float64\n",
      "dtypes: float64(9), int64(1)\n",
      "memory usage: 1.2 MB\n"
     ]
    }
   ],
   "source": [
    "weather_df.info()"
   ]
  },
  {
   "cell_type": "code",
   "execution_count": 83,
   "id": "e173ce08-1de1-44e0-9a79-93a8a2a87452",
   "metadata": {},
   "outputs": [
    {
     "data": {
      "text/html": [
       "<div>\n",
       "<style scoped>\n",
       "    .dataframe tbody tr th:only-of-type {\n",
       "        vertical-align: middle;\n",
       "    }\n",
       "\n",
       "    .dataframe tbody tr th {\n",
       "        vertical-align: top;\n",
       "    }\n",
       "\n",
       "    .dataframe thead th {\n",
       "        text-align: right;\n",
       "    }\n",
       "</style>\n",
       "<table border=\"1\" class=\"dataframe\">\n",
       "  <thead>\n",
       "    <tr style=\"text-align: right;\">\n",
       "      <th></th>\n",
       "      <th>date</th>\n",
       "      <th>cloud_cover</th>\n",
       "      <th>sunshine</th>\n",
       "      <th>global_radiation</th>\n",
       "      <th>max_temp</th>\n",
       "      <th>mean_temp</th>\n",
       "      <th>min_temp</th>\n",
       "      <th>precipitation</th>\n",
       "      <th>pressure</th>\n",
       "      <th>snow_depth</th>\n",
       "    </tr>\n",
       "  </thead>\n",
       "  <tbody>\n",
       "    <tr>\n",
       "      <th>count</th>\n",
       "      <td>1.534100e+04</td>\n",
       "      <td>15322.000000</td>\n",
       "      <td>15341.000000</td>\n",
       "      <td>15322.000000</td>\n",
       "      <td>15335.000000</td>\n",
       "      <td>15305.000000</td>\n",
       "      <td>15339.000000</td>\n",
       "      <td>15335.000000</td>\n",
       "      <td>15337.000000</td>\n",
       "      <td>13900.000000</td>\n",
       "    </tr>\n",
       "    <tr>\n",
       "      <th>mean</th>\n",
       "      <td>1.999567e+07</td>\n",
       "      <td>5.268242</td>\n",
       "      <td>4.350238</td>\n",
       "      <td>118.756951</td>\n",
       "      <td>15.388777</td>\n",
       "      <td>11.475511</td>\n",
       "      <td>7.559867</td>\n",
       "      <td>1.668634</td>\n",
       "      <td>101536.605594</td>\n",
       "      <td>0.037986</td>\n",
       "    </tr>\n",
       "    <tr>\n",
       "      <th>std</th>\n",
       "      <td>1.212176e+05</td>\n",
       "      <td>2.070072</td>\n",
       "      <td>4.028339</td>\n",
       "      <td>88.898272</td>\n",
       "      <td>6.554754</td>\n",
       "      <td>5.729709</td>\n",
       "      <td>5.326756</td>\n",
       "      <td>3.738540</td>\n",
       "      <td>1049.722604</td>\n",
       "      <td>0.545633</td>\n",
       "    </tr>\n",
       "    <tr>\n",
       "      <th>min</th>\n",
       "      <td>1.979010e+07</td>\n",
       "      <td>0.000000</td>\n",
       "      <td>0.000000</td>\n",
       "      <td>8.000000</td>\n",
       "      <td>-6.200000</td>\n",
       "      <td>-7.600000</td>\n",
       "      <td>-11.800000</td>\n",
       "      <td>0.000000</td>\n",
       "      <td>95960.000000</td>\n",
       "      <td>0.000000</td>\n",
       "    </tr>\n",
       "    <tr>\n",
       "      <th>25%</th>\n",
       "      <td>1.989070e+07</td>\n",
       "      <td>4.000000</td>\n",
       "      <td>0.500000</td>\n",
       "      <td>41.000000</td>\n",
       "      <td>10.500000</td>\n",
       "      <td>7.000000</td>\n",
       "      <td>3.500000</td>\n",
       "      <td>0.000000</td>\n",
       "      <td>100920.000000</td>\n",
       "      <td>0.000000</td>\n",
       "    </tr>\n",
       "    <tr>\n",
       "      <th>50%</th>\n",
       "      <td>2.000010e+07</td>\n",
       "      <td>6.000000</td>\n",
       "      <td>3.500000</td>\n",
       "      <td>95.000000</td>\n",
       "      <td>15.000000</td>\n",
       "      <td>11.400000</td>\n",
       "      <td>7.800000</td>\n",
       "      <td>0.000000</td>\n",
       "      <td>101620.000000</td>\n",
       "      <td>0.000000</td>\n",
       "    </tr>\n",
       "    <tr>\n",
       "      <th>75%</th>\n",
       "      <td>2.010070e+07</td>\n",
       "      <td>7.000000</td>\n",
       "      <td>7.200000</td>\n",
       "      <td>186.000000</td>\n",
       "      <td>20.300000</td>\n",
       "      <td>16.000000</td>\n",
       "      <td>11.800000</td>\n",
       "      <td>1.600000</td>\n",
       "      <td>102240.000000</td>\n",
       "      <td>0.000000</td>\n",
       "    </tr>\n",
       "    <tr>\n",
       "      <th>max</th>\n",
       "      <td>2.020123e+07</td>\n",
       "      <td>9.000000</td>\n",
       "      <td>16.000000</td>\n",
       "      <td>402.000000</td>\n",
       "      <td>37.900000</td>\n",
       "      <td>29.000000</td>\n",
       "      <td>22.300000</td>\n",
       "      <td>61.800000</td>\n",
       "      <td>104820.000000</td>\n",
       "      <td>22.000000</td>\n",
       "    </tr>\n",
       "  </tbody>\n",
       "</table>\n",
       "</div>"
      ],
      "text/plain": [
       "               date   cloud_cover      sunshine  global_radiation  \\\n",
       "count  1.534100e+04  15322.000000  15341.000000      15322.000000   \n",
       "mean   1.999567e+07      5.268242      4.350238        118.756951   \n",
       "std    1.212176e+05      2.070072      4.028339         88.898272   \n",
       "min    1.979010e+07      0.000000      0.000000          8.000000   \n",
       "25%    1.989070e+07      4.000000      0.500000         41.000000   \n",
       "50%    2.000010e+07      6.000000      3.500000         95.000000   \n",
       "75%    2.010070e+07      7.000000      7.200000        186.000000   \n",
       "max    2.020123e+07      9.000000     16.000000        402.000000   \n",
       "\n",
       "           max_temp     mean_temp      min_temp  precipitation       pressure  \\\n",
       "count  15335.000000  15305.000000  15339.000000   15335.000000   15337.000000   \n",
       "mean      15.388777     11.475511      7.559867       1.668634  101536.605594   \n",
       "std        6.554754      5.729709      5.326756       3.738540    1049.722604   \n",
       "min       -6.200000     -7.600000    -11.800000       0.000000   95960.000000   \n",
       "25%       10.500000      7.000000      3.500000       0.000000  100920.000000   \n",
       "50%       15.000000     11.400000      7.800000       0.000000  101620.000000   \n",
       "75%       20.300000     16.000000     11.800000       1.600000  102240.000000   \n",
       "max       37.900000     29.000000     22.300000      61.800000  104820.000000   \n",
       "\n",
       "         snow_depth  \n",
       "count  13900.000000  \n",
       "mean       0.037986  \n",
       "std        0.545633  \n",
       "min        0.000000  \n",
       "25%        0.000000  \n",
       "50%        0.000000  \n",
       "75%        0.000000  \n",
       "max       22.000000  "
      ]
     },
     "execution_count": 83,
     "metadata": {},
     "output_type": "execute_result"
    }
   ],
   "source": [
    "weather_df.describe()"
   ]
  },
  {
   "cell_type": "code",
   "execution_count": 84,
   "id": "8c41cdba-e03e-41f3-80ae-64c527fe54ce",
   "metadata": {},
   "outputs": [
    {
     "name": "stdout",
     "output_type": "stream",
     "text": [
      "The dataframe columns are Index(['date', 'cloud_cover', 'sunshine', 'global_radiation', 'max_temp',\n",
      "       'mean_temp', 'min_temp', 'precipitation', 'pressure', 'snow_depth'],\n",
      "      dtype='object')\n"
     ]
    }
   ],
   "source": [
    "print(f\"The dataframe columns are {weather_df.columns}\")"
   ]
  },
  {
   "cell_type": "code",
   "execution_count": 85,
   "id": "faf1c240-0cc8-4920-9bec-b24a78d6fd80",
   "metadata": {},
   "outputs": [
    {
     "name": "stdout",
     "output_type": "stream",
     "text": [
      "The dataframe shape is (15341, 10)\n"
     ]
    }
   ],
   "source": [
    "print(f\"The dataframe shape is {weather_df.shape}\")"
   ]
  },
  {
   "cell_type": "code",
   "execution_count": 86,
   "id": "a258adf1-17a8-4c76-ad90-26bb7110c5cb",
   "metadata": {},
   "outputs": [
    {
     "name": "stdout",
     "output_type": "stream",
     "text": [
      "The time period is from 19790101 to 20201231\n"
     ]
    }
   ],
   "source": [
    "print(f\"The time period is from {weather_df[\"date\"].min()} to {weather_df[\"date\"].max()}\")"
   ]
  },
  {
   "cell_type": "code",
   "execution_count": 87,
   "id": "61f0fb65-9709-4ed6-bbf2-83b956e3f9ef",
   "metadata": {},
   "outputs": [
    {
     "data": {
      "text/plain": [
       "date                   0\n",
       "cloud_cover           19\n",
       "sunshine               0\n",
       "global_radiation      19\n",
       "max_temp               6\n",
       "mean_temp             36\n",
       "min_temp               2\n",
       "precipitation          6\n",
       "pressure               4\n",
       "snow_depth          1441\n",
       "dtype: int64"
      ]
     },
     "execution_count": 87,
     "metadata": {},
     "output_type": "execute_result"
    }
   ],
   "source": [
    "#Missing values analysis\n",
    "weather_df.isnull().sum()"
   ]
  },
  {
   "cell_type": "code",
   "execution_count": 88,
   "id": "a50ac233-145e-464e-a7ff-3db66a48a164",
   "metadata": {},
   "outputs": [
    {
     "data": {
      "text/plain": [
       "15341"
      ]
     },
     "execution_count": 88,
     "metadata": {},
     "output_type": "execute_result"
    }
   ],
   "source": [
    "len(weather_df)"
   ]
  },
  {
   "cell_type": "code",
   "execution_count": 89,
   "id": "9b80d066-64b4-4f3a-8335-7cccd400151c",
   "metadata": {},
   "outputs": [
    {
     "name": "stdout",
     "output_type": "stream",
     "text": [
      "                  Missing_Count  Missing_Percentage\n",
      "snow_depth                 1441            9.393130\n",
      "mean_temp                    36            0.234665\n",
      "global_radiation             19            0.123851\n",
      "cloud_cover                  19            0.123851\n",
      "precipitation                 6            0.039111\n",
      "max_temp                      6            0.039111\n",
      "pressure                      4            0.026074\n",
      "min_temp                      2            0.013037\n",
      "date                          0            0.000000\n",
      "sunshine                      0            0.000000\n"
     ]
    }
   ],
   "source": [
    "missing_stats = pd.DataFrame({\n",
    "            'Missing_Count': weather_df.isnull().sum(),\n",
    "            'Missing_Percentage': (weather_df.isnull().sum() / len(weather_df)) * 100\n",
    "        }).sort_values('Missing_Percentage', ascending=False)\n",
    "print(missing_stats)"
   ]
  },
  {
   "cell_type": "code",
   "execution_count": 90,
   "id": "b3b47ed6-291a-42fc-9ef1-6b60a6841498",
   "metadata": {},
   "outputs": [
    {
     "name": "stdout",
     "output_type": "stream",
     "text": [
      "       date  cloud_cover  sunshine  global_radiation  max_temp  mean_temp  \\\n",
      "0  19790101          2.0       7.0              52.0       2.3       -4.1   \n",
      "1  19790102          6.0       1.7              27.0       1.6       -2.6   \n",
      "2  19790103          5.0       0.0              13.0       1.3       -2.8   \n",
      "3  19790104          8.0       0.0              13.0      -0.3       -2.6   \n",
      "4  19790105          6.0       2.0              29.0       5.6       -0.8   \n",
      "\n",
      "   min_temp  precipitation  pressure  snow_depth  date_str   datetime  \n",
      "0      -7.5            0.4  101900.0         9.0  19790101 1979-01-01  \n",
      "1      -7.5            0.0  102530.0         8.0  19790102 1979-01-02  \n",
      "2      -7.2            0.0  102050.0         4.0  19790103 1979-01-03  \n",
      "3      -6.5            0.0  100840.0         2.0  19790104 1979-01-04  \n",
      "4      -1.4            0.0  102250.0         1.0  19790105 1979-01-05  \n"
     ]
    }
   ],
   "source": [
    "#Processing Date Feature:\n",
    "#Convert the date into datetime feature:\n",
    "\n",
    "weather_df[\"date_str\"] = weather_df[\"date\"].astype(str)\n",
    "weather_df[\"datetime\"] = pd.to_datetime(weather_df[\"date_str\"])\n",
    "print(weather_df.head())"
   ]
  },
  {
   "cell_type": "code",
   "execution_count": 91,
   "id": "dd6011b0-1783-455c-85bd-69709946f729",
   "metadata": {},
   "outputs": [
    {
     "name": "stdout",
     "output_type": "stream",
     "text": [
      "       date  cloud_cover  sunshine  global_radiation  max_temp  mean_temp  \\\n",
      "0  19790101          2.0       7.0              52.0       2.3       -4.1   \n",
      "1  19790102          6.0       1.7              27.0       1.6       -2.6   \n",
      "2  19790103          5.0       0.0              13.0       1.3       -2.8   \n",
      "3  19790104          8.0       0.0              13.0      -0.3       -2.6   \n",
      "4  19790105          6.0       2.0              29.0       5.6       -0.8   \n",
      "\n",
      "   min_temp  precipitation  pressure  snow_depth  date_str   datetime  day  \\\n",
      "0      -7.5            0.4  101900.0         9.0  19790101 1979-01-01    1   \n",
      "1      -7.5            0.0  102530.0         8.0  19790102 1979-01-02    2   \n",
      "2      -7.2            0.0  102050.0         4.0  19790103 1979-01-03    3   \n",
      "3      -6.5            0.0  100840.0         2.0  19790104 1979-01-04    4   \n",
      "4      -1.4            0.0  102250.0         1.0  19790105 1979-01-05    5   \n",
      "\n",
      "   month  year  \n",
      "0      1  1979  \n",
      "1      1  1979  \n",
      "2      1  1979  \n",
      "3      1  1979  \n",
      "4      1  1979  \n"
     ]
    }
   ],
   "source": [
    "#Extract Temporal Features\n",
    "weather_df[\"day\"] = weather_df[\"datetime\"].dt.day\n",
    "weather_df[\"month\"] = weather_df[\"datetime\"].dt.month\n",
    "weather_df[\"year\"] = weather_df[\"datetime\"].dt.year\n",
    "print(weather_df.head())"
   ]
  },
  {
   "cell_type": "code",
   "execution_count": 92,
   "id": "8cc69fbe-f410-43b6-8045-4bc27ad5a6e9",
   "metadata": {},
   "outputs": [
    {
     "name": "stdout",
     "output_type": "stream",
     "text": [
      "       date  cloud_cover  sunshine  global_radiation  max_temp  mean_temp  \\\n",
      "0  19790101          2.0       7.0              52.0       2.3       -4.1   \n",
      "1  19790102          6.0       1.7              27.0       1.6       -2.6   \n",
      "2  19790103          5.0       0.0              13.0       1.3       -2.8   \n",
      "3  19790104          8.0       0.0              13.0      -0.3       -2.6   \n",
      "4  19790105          6.0       2.0              29.0       5.6       -0.8   \n",
      "\n",
      "   min_temp  precipitation  pressure  snow_depth  date_str   datetime  day  \\\n",
      "0      -7.5            0.4  101900.0         9.0  19790101 1979-01-01    1   \n",
      "1      -7.5            0.0  102530.0         8.0  19790102 1979-01-02    2   \n",
      "2      -7.2            0.0  102050.0         4.0  19790103 1979-01-03    3   \n",
      "3      -6.5            0.0  100840.0         2.0  19790104 1979-01-04    4   \n",
      "4      -1.4            0.0  102250.0         1.0  19790105 1979-01-05    5   \n",
      "\n",
      "   month  year  season  \n",
      "0      1  1979  Winter  \n",
      "1      1  1979  Winter  \n",
      "2      1  1979  Winter  \n",
      "3      1  1979  Winter  \n",
      "4      1  1979  Winter  \n"
     ]
    }
   ],
   "source": [
    "#Seasonal Features\n",
    "def get_season(month):\n",
    "    if month in [12, 1, 2]:\n",
    "        return \"Winter\"\n",
    "    elif month in [3, 4, 5]:\n",
    "        return \"Spring\"\n",
    "    elif month in [6, 7, 8]:\n",
    "        return \"Summer\"\n",
    "    else:\n",
    "        return \"Autumn\"\n",
    "weather_df[\"season\"] = weather_df[\"month\"].apply(get_season)\n",
    "print(weather_df.head())"
   ]
  },
  {
   "cell_type": "code",
   "execution_count": 93,
   "id": "5a849335-9117-475e-b769-85ba92fb91ff",
   "metadata": {},
   "outputs": [
    {
     "name": "stdout",
     "output_type": "stream",
     "text": [
      "\n",
      "Data spans 42 years: 1979-2020\n"
     ]
    }
   ],
   "source": [
    "print(f\"\\nData spans {weather_df['year'].nunique()} years: {weather_df['year'].min()}-{weather_df['year'].max()}\")"
   ]
  },
  {
   "cell_type": "code",
   "execution_count": 94,
   "id": "9fe51744-3ab0-433a-ab0f-ee69ca161699",
   "metadata": {},
   "outputs": [
    {
     "name": "stdout",
     "output_type": "stream",
     "text": [
      "\n",
      "Seasonal distribution: season\n",
      "Autumn    3822\n",
      "Spring    3864\n",
      "Summer    3864\n",
      "Winter    3791\n",
      "Name: count, dtype: int64\n"
     ]
    }
   ],
   "source": [
    "print(f\"\\nSeasonal distribution: {weather_df['season'].value_counts().sort_index()}\")"
   ]
  },
  {
   "cell_type": "code",
   "execution_count": 95,
   "id": "91509842-091e-4cc7-9d6f-1d25e4ec1efa",
   "metadata": {},
   "outputs": [
    {
     "name": "stdout",
     "output_type": "stream",
     "text": [
      "Index(['date', 'cloud_cover', 'sunshine', 'global_radiation', 'max_temp',\n",
      "       'mean_temp', 'min_temp', 'precipitation', 'pressure', 'snow_depth',\n",
      "       'date_str', 'datetime', 'day', 'month', 'year', 'season'],\n",
      "      dtype='object')\n"
     ]
    }
   ],
   "source": [
    "print(weather_df.columns)"
   ]
  },
  {
   "cell_type": "code",
   "execution_count": 96,
   "id": "ecf41075-91ca-4087-b1b3-1bb67ffc4d00",
   "metadata": {},
   "outputs": [
    {
     "name": "stdout",
     "output_type": "stream",
     "text": [
      "   year  month  cloud_cover  sunshine  global_radiation   max_temp  mean_temp  \\\n",
      "0  1979      1     5.724138  1.887097         29.032258   4.116129   0.616129   \n",
      "1  1979      2     6.360000  1.889286         45.214286   4.532143   2.042857   \n",
      "2  1979      3     5.967742  3.212903         93.354839   9.238710   5.587097   \n",
      "3  1979      4     6.133333  3.543333        134.166667  12.520000   8.743333   \n",
      "4  1979      5     5.290323  6.470968        204.064516  16.206452  11.490323   \n",
      "\n",
      "   min_temp  precipitation       pressure  snow_depth  \n",
      "0 -2.551613       1.932258  101214.838710    1.354839  \n",
      "1 -0.428571       1.571429  101163.928571    0.107143  \n",
      "2  1.993548       3.061290  100459.032258    0.032258  \n",
      "3  4.810000       2.586667  101165.333333    0.000000  \n",
      "4  7.151613       2.806452  101362.580645    0.000000  \n"
     ]
    }
   ],
   "source": [
    "#Aggregate the data \n",
    "weather_metrics = ['cloud_cover', 'sunshine', 'global_radiation', 'max_temp',\n",
    "       'mean_temp', 'min_temp', 'precipitation', 'pressure', 'snow_depth']\n",
    "weather_per_month = weather_df.groupby([\"year\", \"month\"], as_index=False)[weather_metrics].mean()\n",
    "print(weather_per_month.head())"
   ]
  },
  {
   "cell_type": "code",
   "execution_count": 97,
   "id": "bd01c54f-e50d-461d-8490-04a71209ec0c",
   "metadata": {},
   "outputs": [
    {
     "name": "stderr",
     "output_type": "stream",
     "text": [
      "C:\\Users\\MENNAT\\AppData\\Local\\Temp\\ipykernel_27080\\2346311961.py:2: FutureWarning: \n",
      "\n",
      "The `ci` parameter is deprecated. Use `errorbar=None` for the same effect.\n",
      "\n",
      "  sns.lineplot(x=\"year\", y=\"mean_temp\", data=weather_per_month, ci=None)\n"
     ]
    },
    {
     "data": {
      "image/png": "[encoded data removed]",
      "text/plain": [
       "<Figure size 640x480 with 1 Axes>"
      ]
     },
     "metadata": {},
     "output_type": "display_data"
    }
   ],
   "source": [
    "#Visualize the relationship between features in the dataset\n",
    "sns.lineplot(x=\"year\", y=\"mean_temp\", data=weather_per_month, ci=None)\n",
    "plt.show()\n"
   ]
  },
  {
   "cell_type": "code",
   "execution_count": 98,
   "id": "92c745e7-ce1b-414c-a33c-ada3a3f033f6",
   "metadata": {},
   "outputs": [
    {
     "data": {
      "image/png": "[encoded data removed]",
      "text/plain": [
       "<Figure size 640x480 with 1 Axes>"
      ]
     },
     "metadata": {},
     "output_type": "display_data"
    }
   ],
   "source": [
    "sns.histplot(x=\"season\", y=\"mean_temp\", data=weather_df)\n",
    "plt.show()\n"
   ]
  },
  {
   "cell_type": "code",
   "execution_count": 99,
   "id": "c5762a7e-23cf-4618-b4fe-9d63a15fa207",
   "metadata": {},
   "outputs": [
    {
     "data": {
      "text/plain": [
       "Index(['date', 'cloud_cover', 'sunshine', 'global_radiation', 'max_temp',\n",
       "       'mean_temp', 'min_temp', 'precipitation', 'pressure', 'snow_depth',\n",
       "       'date_str', 'datetime', 'day', 'month', 'year', 'season'],\n",
       "      dtype='object')"
      ]
     },
     "execution_count": 99,
     "metadata": {},
     "output_type": "execute_result"
    }
   ],
   "source": [
    "#Choose features, define the target and drop the null values\n",
    "weather_df.columns"
   ]
  },
  {
   "cell_type": "code",
   "execution_count": 100,
   "id": "46813168-2669-4444-a2a5-5998c72042e4",
   "metadata": {},
   "outputs": [],
   "source": [
    "features = ['month', 'cloud_cover', 'sunshine', 'global_radiation',\n",
    "       'precipitation', 'pressure', 'snow_depth']\n",
    "target = 'mean_temp'\n",
    "# Drop the row where the target feature is missing\n",
    "weather_df = weather_df.dropna(subset=[\"mean_temp\"])"
   ]
  },
  {
   "cell_type": "code",
   "execution_count": 101,
   "id": "6c5f9a72-5831-4c2a-8833-efe897678038",
   "metadata": {},
   "outputs": [
    {
     "name": "stdout",
     "output_type": "stream",
     "text": [
      "   month  cloud_cover  sunshine  global_radiation  precipitation  pressure  \\\n",
      "0      1          2.0       7.0              52.0            0.4  101900.0   \n",
      "1      1          6.0       1.7              27.0            0.0  102530.0   \n",
      "2      1          5.0       0.0              13.0            0.0  102050.0   \n",
      "3      1          8.0       0.0              13.0            0.0  100840.0   \n",
      "4      1          6.0       2.0              29.0            0.0  102250.0   \n",
      "\n",
      "   snow_depth  \n",
      "0         9.0  \n",
      "1         8.0  \n",
      "2         4.0  \n",
      "3         2.0  \n",
      "4         1.0  \n",
      "(15305, 7)\n",
      "0   -4.1\n",
      "1   -2.6\n",
      "2   -2.8\n",
      "3   -2.6\n",
      "4   -0.8\n",
      "Name: mean_temp, dtype: float64\n",
      "(15305,)\n"
     ]
    }
   ],
   "source": [
    "X = weather_df[features]\n",
    "y = weather_df[target]\n",
    "print(X.head())\n",
    "print(X.shape)\n",
    "print(y.head())\n",
    "print(y.shape)"
   ]
  },
  {
   "cell_type": "code",
   "execution_count": 102,
   "id": "37f88c2b-5c06-4213-b907-411232acb261",
   "metadata": {},
   "outputs": [
    {
     "name": "stdout",
     "output_type": "stream",
     "text": [
      "\n",
      "Training set size:\n",
      "\tfeatures: (12244, 7)\n",
      "\ttarget feature: (12244,)\n",
      "\n",
      "Test set size:\n",
      "\tfeatures(3061, 7)\n",
      "\ttarget feature: (3061,)\n"
     ]
    }
   ],
   "source": [
    "#Split the data into train and test dataset\n",
    "X_train, X_test, y_train, y_test = train_test_split(X, y, test_size=0.2, random_state=42)\n",
    "print(f\"\\nTraining set size:\\n\\tfeatures: {X_train.shape}\\n\\ttarget feature: {y_train.shape}\")\n",
    "print(f\"\\nTest set size:\\n\\tfeatures{X_test.shape}\\n\\ttarget feature: {y_test.shape}\")"
   ]
  },
  {
   "cell_type": "code",
   "execution_count": 103,
   "id": "82a05a2c-8128-4f4b-a5dc-a638a7c1b9b1",
   "metadata": {},
   "outputs": [
    {
     "data": {
      "text/plain": [
       "Index(['month', 'cloud_cover', 'sunshine', 'global_radiation', 'precipitation',\n",
       "       'pressure', 'snow_depth'],\n",
       "      dtype='object')"
      ]
     },
     "execution_count": 103,
     "metadata": {},
     "output_type": "execute_result"
    }
   ],
   "source": [
    "X_train.columns"
   ]
  },
  {
   "cell_type": "code",
   "execution_count": 104,
   "id": "ad705ed6-859b-480c-a0dd-a6c655d0c6e5",
   "metadata": {},
   "outputs": [
    {
     "data": {
      "text/plain": [
       "month               1.179280e+01\n",
       "cloud_cover         4.284208e+00\n",
       "sunshine            1.629586e+01\n",
       "global_radiation    7.910910e+03\n",
       "precipitation       1.394361e+01\n",
       "pressure            1.096279e+06\n",
       "snow_depth          3.217982e-01\n",
       "dtype: float64"
      ]
     },
     "execution_count": 104,
     "metadata": {},
     "output_type": "execute_result"
    }
   ],
   "source": [
    "X_train.var()"
   ]
  },
  {
   "cell_type": "code",
   "execution_count": 105,
   "id": "88db128d-0a26-4d4b-be0a-c945e0968fe3",
   "metadata": {},
   "outputs": [
    {
     "data": {
      "text/html": [
       "<div>\n",
       "<style scoped>\n",
       "    .dataframe tbody tr th:only-of-type {\n",
       "        vertical-align: middle;\n",
       "    }\n",
       "\n",
       "    .dataframe tbody tr th {\n",
       "        vertical-align: top;\n",
       "    }\n",
       "\n",
       "    .dataframe thead th {\n",
       "        text-align: right;\n",
       "    }\n",
       "</style>\n",
       "<table border=\"1\" class=\"dataframe\">\n",
       "  <thead>\n",
       "    <tr style=\"text-align: right;\">\n",
       "      <th></th>\n",
       "      <th>month</th>\n",
       "      <th>cloud_cover</th>\n",
       "      <th>sunshine</th>\n",
       "      <th>global_radiation</th>\n",
       "      <th>precipitation</th>\n",
       "      <th>pressure</th>\n",
       "      <th>snow_depth</th>\n",
       "    </tr>\n",
       "  </thead>\n",
       "  <tbody>\n",
       "    <tr>\n",
       "      <th>count</th>\n",
       "      <td>12244.000000</td>\n",
       "      <td>12230.000000</td>\n",
       "      <td>12244.000000</td>\n",
       "      <td>12226.000000</td>\n",
       "      <td>12242.000000</td>\n",
       "      <td>12242.000000</td>\n",
       "      <td>11088.000000</td>\n",
       "    </tr>\n",
       "    <tr>\n",
       "      <th>mean</th>\n",
       "      <td>6.528259</td>\n",
       "      <td>5.272690</td>\n",
       "      <td>4.349665</td>\n",
       "      <td>119.026746</td>\n",
       "      <td>1.661893</td>\n",
       "      <td>101539.264009</td>\n",
       "      <td>0.039412</td>\n",
       "    </tr>\n",
       "    <tr>\n",
       "      <th>std</th>\n",
       "      <td>3.434064</td>\n",
       "      <td>2.069833</td>\n",
       "      <td>4.036814</td>\n",
       "      <td>88.943296</td>\n",
       "      <td>3.734114</td>\n",
       "      <td>1047.033586</td>\n",
       "      <td>0.567273</td>\n",
       "    </tr>\n",
       "    <tr>\n",
       "      <th>min</th>\n",
       "      <td>1.000000</td>\n",
       "      <td>0.000000</td>\n",
       "      <td>0.000000</td>\n",
       "      <td>8.000000</td>\n",
       "      <td>0.000000</td>\n",
       "      <td>96370.000000</td>\n",
       "      <td>0.000000</td>\n",
       "    </tr>\n",
       "    <tr>\n",
       "      <th>25%</th>\n",
       "      <td>4.000000</td>\n",
       "      <td>4.000000</td>\n",
       "      <td>0.400000</td>\n",
       "      <td>41.000000</td>\n",
       "      <td>0.000000</td>\n",
       "      <td>100920.000000</td>\n",
       "      <td>0.000000</td>\n",
       "    </tr>\n",
       "    <tr>\n",
       "      <th>50%</th>\n",
       "      <td>7.000000</td>\n",
       "      <td>6.000000</td>\n",
       "      <td>3.500000</td>\n",
       "      <td>95.000000</td>\n",
       "      <td>0.000000</td>\n",
       "      <td>101630.000000</td>\n",
       "      <td>0.000000</td>\n",
       "    </tr>\n",
       "    <tr>\n",
       "      <th>75%</th>\n",
       "      <td>10.000000</td>\n",
       "      <td>7.000000</td>\n",
       "      <td>7.200000</td>\n",
       "      <td>186.000000</td>\n",
       "      <td>1.600000</td>\n",
       "      <td>102240.000000</td>\n",
       "      <td>0.000000</td>\n",
       "    </tr>\n",
       "    <tr>\n",
       "      <th>max</th>\n",
       "      <td>12.000000</td>\n",
       "      <td>9.000000</td>\n",
       "      <td>16.000000</td>\n",
       "      <td>402.000000</td>\n",
       "      <td>61.800000</td>\n",
       "      <td>104820.000000</td>\n",
       "      <td>22.000000</td>\n",
       "    </tr>\n",
       "  </tbody>\n",
       "</table>\n",
       "</div>"
      ],
      "text/plain": [
       "              month   cloud_cover      sunshine  global_radiation  \\\n",
       "count  12244.000000  12230.000000  12244.000000      12226.000000   \n",
       "mean       6.528259      5.272690      4.349665        119.026746   \n",
       "std        3.434064      2.069833      4.036814         88.943296   \n",
       "min        1.000000      0.000000      0.000000          8.000000   \n",
       "25%        4.000000      4.000000      0.400000         41.000000   \n",
       "50%        7.000000      6.000000      3.500000         95.000000   \n",
       "75%       10.000000      7.000000      7.200000        186.000000   \n",
       "max       12.000000      9.000000     16.000000        402.000000   \n",
       "\n",
       "       precipitation       pressure    snow_depth  \n",
       "count   12242.000000   12242.000000  11088.000000  \n",
       "mean        1.661893  101539.264009      0.039412  \n",
       "std         3.734114    1047.033586      0.567273  \n",
       "min         0.000000   96370.000000      0.000000  \n",
       "25%         0.000000  100920.000000      0.000000  \n",
       "50%         0.000000  101630.000000      0.000000  \n",
       "75%         1.600000  102240.000000      0.000000  \n",
       "max        61.800000  104820.000000     22.000000  "
      ]
     },
     "execution_count": 105,
     "metadata": {},
     "output_type": "execute_result"
    }
   ],
   "source": [
    "X_train.describe()"
   ]
  },
  {
   "cell_type": "code",
   "execution_count": 106,
   "id": "96e98c60-22fb-46ee-bcb1-46d1e9b20411",
   "metadata": {},
   "outputs": [
    {
     "name": "stdout",
     "output_type": "stream",
     "text": [
      "<class 'numpy.ndarray'>\n",
      "<class 'pandas.core.frame.DataFrame'>\n"
     ]
    }
   ],
   "source": [
    "#Imputing missing values\n",
    "imputer = SimpleImputer(strategy=\"mean\")\n",
    "#Fit and transform the training data\n",
    "X_train_imputed= imputer.fit_transform(X_train)\n",
    "#Transform the test dataset\n",
    "X_test_imputed = imputer.transform(X_test)\n",
    "print(type(X_train_imputed))\n",
    "print(type(X_train))"
   ]
  },
  {
   "cell_type": "code",
   "execution_count": 107,
   "id": "f25fe5da-97d6-4257-ab93-dee3b4bd4e86",
   "metadata": {},
   "outputs": [
    {
     "data": {
      "text/html": [
       "<div>\n",
       "<style scoped>\n",
       "    .dataframe tbody tr th:only-of-type {\n",
       "        vertical-align: middle;\n",
       "    }\n",
       "\n",
       "    .dataframe tbody tr th {\n",
       "        vertical-align: top;\n",
       "    }\n",
       "\n",
       "    .dataframe thead th {\n",
       "        text-align: right;\n",
       "    }\n",
       "</style>\n",
       "<table border=\"1\" class=\"dataframe\">\n",
       "  <thead>\n",
       "    <tr style=\"text-align: right;\">\n",
       "      <th></th>\n",
       "      <th>month</th>\n",
       "      <th>cloud_cover</th>\n",
       "      <th>sunshine</th>\n",
       "      <th>global_radiation</th>\n",
       "      <th>precipitation</th>\n",
       "      <th>pressure</th>\n",
       "      <th>snow_depth</th>\n",
       "    </tr>\n",
       "  </thead>\n",
       "  <tbody>\n",
       "    <tr>\n",
       "      <th>count</th>\n",
       "      <td>1.224400e+04</td>\n",
       "      <td>1.224400e+04</td>\n",
       "      <td>1.224400e+04</td>\n",
       "      <td>1.224400e+04</td>\n",
       "      <td>1.224400e+04</td>\n",
       "      <td>1.224400e+04</td>\n",
       "      <td>1.224400e+04</td>\n",
       "    </tr>\n",
       "    <tr>\n",
       "      <th>mean</th>\n",
       "      <td>5.600080e-17</td>\n",
       "      <td>-3.217870e-16</td>\n",
       "      <td>-1.378258e-16</td>\n",
       "      <td>-2.234229e-17</td>\n",
       "      <td>-4.642553e-17</td>\n",
       "      <td>3.392546e-15</td>\n",
       "      <td>-3.336835e-18</td>\n",
       "    </tr>\n",
       "    <tr>\n",
       "      <th>std</th>\n",
       "      <td>1.000041e+00</td>\n",
       "      <td>1.000041e+00</td>\n",
       "      <td>1.000041e+00</td>\n",
       "      <td>1.000041e+00</td>\n",
       "      <td>1.000041e+00</td>\n",
       "      <td>1.000041e+00</td>\n",
       "      <td>1.000041e+00</td>\n",
       "    </tr>\n",
       "    <tr>\n",
       "      <th>min</th>\n",
       "      <td>-1.609895e+00</td>\n",
       "      <td>-2.548961e+00</td>\n",
       "      <td>-1.077544e+00</td>\n",
       "      <td>-1.249257e+00</td>\n",
       "      <td>-4.451115e-01</td>\n",
       "      <td>-4.937661e+00</td>\n",
       "      <td>-7.301146e-02</td>\n",
       "    </tr>\n",
       "    <tr>\n",
       "      <th>25%</th>\n",
       "      <td>-7.362594e-01</td>\n",
       "      <td>-6.152528e-01</td>\n",
       "      <td>-9.784515e-01</td>\n",
       "      <td>-8.779454e-01</td>\n",
       "      <td>-4.451115e-01</td>\n",
       "      <td>-5.915186e-01</td>\n",
       "      <td>-7.301146e-02</td>\n",
       "    </tr>\n",
       "    <tr>\n",
       "      <th>50%</th>\n",
       "      <td>1.373767e-01</td>\n",
       "      <td>3.516013e-01</td>\n",
       "      <td>-2.104878e-01</td>\n",
       "      <td>-2.590935e-01</td>\n",
       "      <td>-4.451115e-01</td>\n",
       "      <td>8.667068e-02</td>\n",
       "      <td>-7.301146e-02</td>\n",
       "    </tr>\n",
       "    <tr>\n",
       "      <th>75%</th>\n",
       "      <td>1.011013e+00</td>\n",
       "      <td>8.350283e-01</td>\n",
       "      <td>7.061142e-01</td>\n",
       "      <td>7.535731e-01</td>\n",
       "      <td>-1.657718e-02</td>\n",
       "      <td>6.693404e-01</td>\n",
       "      <td>-7.301146e-02</td>\n",
       "    </tr>\n",
       "    <tr>\n",
       "      <th>max</th>\n",
       "      <td>1.593437e+00</td>\n",
       "      <td>1.801882e+00</td>\n",
       "      <td>2.886140e+00</td>\n",
       "      <td>3.183973e+00</td>\n",
       "      <td>1.610703e+01</td>\n",
       "      <td>3.133747e+00</td>\n",
       "      <td>4.068242e+01</td>\n",
       "    </tr>\n",
       "  </tbody>\n",
       "</table>\n",
       "</div>"
      ],
      "text/plain": [
       "              month   cloud_cover      sunshine  global_radiation  \\\n",
       "count  1.224400e+04  1.224400e+04  1.224400e+04      1.224400e+04   \n",
       "mean   5.600080e-17 -3.217870e-16 -1.378258e-16     -2.234229e-17   \n",
       "std    1.000041e+00  1.000041e+00  1.000041e+00      1.000041e+00   \n",
       "min   -1.609895e+00 -2.548961e+00 -1.077544e+00     -1.249257e+00   \n",
       "25%   -7.362594e-01 -6.152528e-01 -9.784515e-01     -8.779454e-01   \n",
       "50%    1.373767e-01  3.516013e-01 -2.104878e-01     -2.590935e-01   \n",
       "75%    1.011013e+00  8.350283e-01  7.061142e-01      7.535731e-01   \n",
       "max    1.593437e+00  1.801882e+00  2.886140e+00      3.183973e+00   \n",
       "\n",
       "       precipitation      pressure    snow_depth  \n",
       "count   1.224400e+04  1.224400e+04  1.224400e+04  \n",
       "mean   -4.642553e-17  3.392546e-15 -3.336835e-18  \n",
       "std     1.000041e+00  1.000041e+00  1.000041e+00  \n",
       "min    -4.451115e-01 -4.937661e+00 -7.301146e-02  \n",
       "25%    -4.451115e-01 -5.915186e-01 -7.301146e-02  \n",
       "50%    -4.451115e-01  8.667068e-02 -7.301146e-02  \n",
       "75%    -1.657718e-02  6.693404e-01 -7.301146e-02  \n",
       "max     1.610703e+01  3.133747e+00  4.068242e+01  "
      ]
     },
     "execution_count": 107,
     "metadata": {},
     "output_type": "execute_result"
    }
   ],
   "source": [
    "#Scaling the training and test dataset too have a normal distribution with mean of zero and variance of 1\n",
    "sc = StandardScaler()\n",
    "#Fit on the training dataset\n",
    "X_train_scaled= pd.DataFrame(sc.fit_transform(X_train_imputed), columns= X_train.columns)\n",
    "#Fit on the test dataset\n",
    "X_test_scaled = pd.DataFrame(sc.transform(X_test_imputed), columns= X_test.columns)\n",
    "X_train_scaled.describe()\n"
   ]
  },
  {
   "cell_type": "code",
   "execution_count": null,
   "id": "56a201d8-4118-40e4-bedc-4cd627974367",
   "metadata": {},
   "outputs": [],
   "source": []
  }
 ],
 "metadata": {
  "colab": {
   "name": "Welcome to DataCamp Workspaces.ipynb",
   "provenance": []
  },
  "kernelspec": {
   "display_name": "Python 3 (ipykernel)",
   "language": "python",
   "name": "python3"
  },
  "language_info": {
   "codemirror_mode": {
    "name": "ipython",
    "version": 3
   },
   "file_extension": ".py",
   "mimetype": "text/x-python",
   "name": "python",
   "nbconvert_exporter": "python",
   "pygments_lexer": "ipython3",
   "version": "3.13.2"
  }
 },
 "nbformat": 4,
 "nbformat_minor": 5
}
